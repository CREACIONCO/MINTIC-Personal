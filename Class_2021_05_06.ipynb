{
  "nbformat": 4,
  "nbformat_minor": 0,
  "metadata": {
    "colab": {
      "name": "Class 2021-05-06.ipynb",
      "provenance": [],
      "authorship_tag": "ABX9TyMmW4c6tHDpmW/h4Shf/GE7",
      "include_colab_link": true
    },
    "kernelspec": {
      "name": "python3",
      "display_name": "Python 3"
    },
    "language_info": {
      "name": "python"
    }
  },
  "cells": [
    {
      "cell_type": "markdown",
      "metadata": {
        "id": "view-in-github",
        "colab_type": "text"
      },
      "source": [
        "<a href=\"https://colab.research.google.com/github/CREACIONCO/MINTIC-Personal/blob/main/Class_2021_05_06.ipynb\" target=\"_parent\"><img src=\"https://colab.research.google.com/assets/colab-badge.svg\" alt=\"Open In Colab\"/></a>"
      ]
    },
    {
      "cell_type": "code",
      "metadata": {
        "colab": {
          "base_uri": "https://localhost:8080/"
        },
        "id": "9O5XzJqD-2ip",
        "outputId": "56fa0a68-7700-4c69-e445-2a9b83113c01"
      },
      "source": [
        "from math import sqrt, cos, pi, pow, tanh\n",
        "\n",
        "number = 10\n",
        "cosine = cos(number)\n",
        "print (f\"The cosine of {number} is {cosine}\")"
      ],
      "execution_count": null,
      "outputs": [
        {
          "output_type": "stream",
          "text": [
            "The cosine of 10 is -0.8390715290764524\n"
          ],
          "name": "stdout"
        }
      ]
    },
    {
      "cell_type": "code",
      "metadata": {
        "colab": {
          "base_uri": "https://localhost:8080/"
        },
        "id": "qHz5tBxQDMXv",
        "outputId": "01c3c45a-1633-4165-e77c-435dc4dc754f"
      },
      "source": [
        "number = float(input(\"Write a number to square: \"))\n",
        "square = sqrt(number)\n",
        "print (f\"The square number of {number} is {square}\")"
      ],
      "execution_count": null,
      "outputs": [
        {
          "output_type": "stream",
          "text": [
            "Write a number to square: 99.99\n",
            "The square number of 99.99 is 9.999499987499375\n"
          ],
          "name": "stdout"
        }
      ]
    },
    {
      "cell_type": "code",
      "metadata": {
        "colab": {
          "base_uri": "https://localhost:8080/"
        },
        "id": "MiYYEjHkK1NV",
        "outputId": "98d625a2-f0b4-4869-dccf-a4f0de8991b7"
      },
      "source": [
        "r = float(input(\"Write the radio of the circle: \"))\n",
        "a = pi*pow(r,2)\n",
        "print (f\"The area of a circle with radio {r} is {a}\")"
      ],
      "execution_count": null,
      "outputs": [
        {
          "output_type": "stream",
          "text": [
            "Write the radio of the circle: 5\n",
            "The area of a circle with radio 5.0 is 78.53981633974483\n"
          ],
          "name": "stdout"
        }
      ]
    },
    {
      "cell_type": "code",
      "metadata": {
        "colab": {
          "base_uri": "https://localhost:8080/"
        },
        "id": "rOAHske7GLUk",
        "outputId": "bcd659fb-eed8-449c-efa1-27e7cd351605"
      },
      "source": [
        "x = float(input(\"Write X: \"))\n",
        "y = pow(x,2)+3*tanh(x)\n",
        "print (f\"Answer to y=({x})^2 + 3tanh({x}).\\ny = {y}\")"
      ],
      "execution_count": null,
      "outputs": [
        {
          "output_type": "stream",
          "text": [
            "Write X: 2\n",
            "Answer to y=(2.0)^2 + 3tanh(2.0).\n",
            "y = 6.892082740227451\n"
          ],
          "name": "stdout"
        }
      ]
    },
    {
      "cell_type": "code",
      "metadata": {
        "id": "5K5noLBsWLMv"
      },
      "source": [
        "# Exercise Nr. 5: Imaginary numbers\n",
        "x = 2 + 3.3j\n",
        "print(x)"
      ],
      "execution_count": null,
      "outputs": []
    },
    {
      "cell_type": "code",
      "metadata": {
        "id": "liLkRj62WV1c"
      },
      "source": [
        "# Conjunto\n",
        "x = {\"1\", \"2\"}\n",
        "print(x)"
      ],
      "execution_count": null,
      "outputs": []
    },
    {
      "cell_type": "code",
      "metadata": {
        "colab": {
          "base_uri": "https://localhost:8080/"
        },
        "id": "7pRIoqpNWXKY",
        "outputId": "ab902a82-e4c2-4a76-9f1b-2c31f1339440"
      },
      "source": [
        "# Lista\n",
        "my_list = [1.0, True, \"String\"]\n",
        "print(my_list [1])"
      ],
      "execution_count": 29,
      "outputs": [
        {
          "output_type": "stream",
          "text": [
            "True\n"
          ],
          "name": "stdout"
        }
      ]
    },
    {
      "cell_type": "code",
      "metadata": {
        "colab": {
          "base_uri": "https://localhost:8080/"
        },
        "id": "iVNn15yfWYZI",
        "outputId": "5c27f013-11d3-4b93-ca9d-2f33bad05e76"
      },
      "source": [
        "# Tupla\n",
        "my_tuple = (1, 2, 3)\n",
        "my_tuple[0]"
      ],
      "execution_count": 28,
      "outputs": [
        {
          "output_type": "execute_result",
          "data": {
            "text/plain": [
              "1"
            ]
          },
          "metadata": {
            "tags": []
          },
          "execution_count": 28
        }
      ]
    },
    {
      "cell_type": "code",
      "metadata": {
        "colab": {
          "base_uri": "https://localhost:8080/"
        },
        "id": "ryQllrCcWaGc",
        "outputId": "8f347266-b397-4cd4-aa1b-0f8565402ac8"
      },
      "source": [
        "# Exercise Nr. 6\n",
        "my_string = str(input(\"Write a string: \") + \" \")\n",
        "n = int(input(\"How many times? \"))\n",
        "print(my_string * n)"
      ],
      "execution_count": 26,
      "outputs": [
        {
          "output_type": "stream",
          "text": [
            "Write a string: test\n",
            "How many times? 6\n",
            "test test test test test test \n"
          ],
          "name": "stdout"
        }
      ]
    },
    {
      "cell_type": "code",
      "metadata": {
        "colab": {
          "base_uri": "https://localhost:8080/"
        },
        "id": "MDl78R-OWcEK",
        "outputId": "e769a8ce-23c1-47ff-8031-87e19f735e74"
      },
      "source": [
        "# Exercise Nr. 7\n",
        "print(\"Hello world!\",end=\" \"); print(\"How are you?\")"
      ],
      "execution_count": 22,
      "outputs": [
        {
          "output_type": "stream",
          "text": [
            "Hello world! How are you?\n"
          ],
          "name": "stdout"
        }
      ]
    }
  ]
}