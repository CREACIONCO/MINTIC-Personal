{
  "nbformat": 4,
  "nbformat_minor": 0,
  "metadata": {
    "colab": {
      "name": "Class 2021-05-05.ipynb",
      "provenance": [],
      "authorship_tag": "ABX9TyMuYhvYaroKR2ci/+TlthCV",
      "include_colab_link": true
    },
    "kernelspec": {
      "name": "python3",
      "display_name": "Python 3"
    },
    "language_info": {
      "name": "python"
    }
  },
  "cells": [
    {
      "cell_type": "markdown",
      "metadata": {
        "id": "view-in-github",
        "colab_type": "text"
      },
      "source": [
        "<a href=\"https://colab.research.google.com/github/CREACIONCO/MINTIC-Personal/blob/main/Class_2021_05_05.ipynb\" target=\"_parent\"><img src=\"https://colab.research.google.com/assets/colab-badge.svg\" alt=\"Open In Colab\"/></a>"
      ]
    },
    {
      "cell_type": "code",
      "metadata": {
        "id": "iO-hWob0BXS-"
      },
      "source": [
        "my_name = \"Juan\"\n",
        "my_surname = \"Solano\"\n",
        "print(f\"{my_name} {my_surname}\")\n",
        "print(\"{} {}\".format(my_name, my_surname))"
      ],
      "execution_count": null,
      "outputs": []
    },
    {
      "cell_type": "code",
      "metadata": {
        "id": "uJAs4vJvBzGw"
      },
      "source": [
        "formater = \"{} {} {} {}\"\n",
        "print(formater.format(\"Jose\", \"tien\", \"dos\", \"gatos\"))"
      ],
      "execution_count": null,
      "outputs": []
    },
    {
      "cell_type": "code",
      "metadata": {
        "colab": {
          "base_uri": "https://localhost:8080/"
        },
        "id": "zqq39lN4CDnH",
        "outputId": "154a768d-2e17-4d41-a239-3dc87d306db2"
      },
      "source": [
        "m01= \"Januar\"\n",
        "m02 = \"Februar\"\n",
        "m03 = \"March\"\n",
        "m04 = \"April\"\n",
        "m05 = \"May\"\n",
        "m06 = \"June\"\n",
        "m07 = \"July\"\n",
        "m08 = \"August\"\n",
        "m09 = \"September\"\n",
        "m10 = \"October\"\n",
        "m11 = \"November\"\n",
        "m12 = \"December\"\n",
        "br=\"\\n\"\n",
        "months = \"{}{}{}{}{}{}{}{}{}{}{}{}\"\n",
        "print(months.format(m01+br, m02+br, m03+br, m04+br, m05+br, m06+br, m07+br, m08+br, m09+br, m10+br, m11+br, m12+br))"
      ],
      "execution_count": 6,
      "outputs": [
        {
          "output_type": "stream",
          "text": [
            "Januar\n",
            "Februar\n",
            "March\n",
            "April\n",
            "May\n",
            "June\n",
            "July\n",
            "August\n",
            "September\n",
            "October\n",
            "November\n",
            "December\n",
            "\n"
          ],
          "name": "stdout"
        }
      ]
    },
    {
      "cell_type": "code",
      "metadata": {
        "colab": {
          "base_uri": "https://localhost:8080/"
        },
        "id": "-BaY0ZYsE9ha",
        "outputId": "f768b280-51ef-49d0-a333-641944649674"
      },
      "source": [
        "first_name = input(\"Input your first name: \")\n",
        "last_name = input (\"Input your last name: \")\n",
        "email = input (\"Input your email address: \")\n",
        "address = input (\"Input your address: \")\n",
        "print(f\"First name: {first_name}{br}Last name:{last_name}{br}Email: {email}{br}Address: {address}\")"
      ],
      "execution_count": 13,
      "outputs": [
        {
          "output_type": "stream",
          "text": [
            "Input your first name: Pepito\n",
            "Input your last name: Méndez\n",
            "Input your email address: pepito@correo.com\n",
            "Input your address: Calle falsa 123\n",
            "First name: Pepito\n",
            "Last name:Méndez\n",
            "Email: pepito@correo.com\n",
            "Address: Calle falsa 123\n"
          ],
          "name": "stdout"
        }
      ]
    },
    {
      "cell_type": "code",
      "metadata": {
        "colab": {
          "base_uri": "https://localhost:8080/"
        },
        "id": "8t9OCk_cJ9ia",
        "outputId": "85ba3042-8b2e-4ca7-dbba-d4429781d53f"
      },
      "source": [
        "number1 = int( input (\"Insert number 1: \"))\n",
        "number2 = int( input (\"Insert number 2: \"))\n",
        "sum = number1 + number2\n",
        "print(f\"The sum of {number1} and {number2} is: {sum}\")"
      ],
      "execution_count": 15,
      "outputs": [
        {
          "output_type": "stream",
          "text": [
            "Insert number 1: 3\n",
            "Insert number 2: 2\n",
            "The sum of 3 and 2 is: 5\n"
          ],
          "name": "stdout"
        }
      ]
    }
  ]
}